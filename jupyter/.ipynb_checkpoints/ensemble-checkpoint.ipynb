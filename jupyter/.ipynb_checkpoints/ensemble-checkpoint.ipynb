{
 "cells": [
  {
   "cell_type": "code",
   "execution_count": 6,
   "metadata": {},
   "outputs": [],
   "source": [
    "import numpy as np\n",
    "import pandas as pd\n",
    "import pymysql\n",
    "import os, sys\n",
    "from sklearn.ensemble import RandomForestRegressor, GradientBoostingRegressor, AdaBoostRegressor\n",
    "from sklearn.model_selection import train_test_split\n",
    "from matplotlib import pyplot as plt\n",
    "import time\n",
    "\n",
    "basePath = \"..\\\\dataset\""
   ]
  },
  {
   "cell_type": "markdown",
   "metadata": {},
   "source": [
    "#### 通过mysql读取数据"
   ]
  },
  {
   "cell_type": "code",
   "execution_count": 7,
   "metadata": {},
   "outputs": [],
   "source": [
    "# st = time.time()\n",
    "# conn = pymysql.connect(port=3307, user=\"root\", password=\"root\", database=\"pp\", host=\"127.0.0.1\", charset='utf8')\n",
    "# query = \"select * from banner_carr\"\n",
    "# df_banner = pd.read_sql(query, con=conn)\n",
    "# et = time.time()\n",
    "# print(\"mysql cost time: \", et - st)\n",
    "# # df_banner.head()"
   ]
  },
  {
   "cell_type": "code",
   "execution_count": 8,
   "metadata": {},
   "outputs": [],
   "source": [
    "# filePath = os.path.join(basePath, \"banner_carr.csv\")\n",
    "# df_banner.to_csv(filePath)"
   ]
  },
  {
   "cell_type": "markdown",
   "metadata": {},
   "source": [
    "#### 同是读取27万，mysql竟然需要40.13秒，但是pandas竟然只需要1.2秒，这个比较有点伤害啊"
   ]
  },
  {
   "cell_type": "code",
   "execution_count": 40,
   "metadata": {},
   "outputs": [
    {
     "name": "stdout",
     "output_type": "stream",
     "text": [
      "cost time:  1.050985336303711\n"
     ]
    }
   ],
   "source": [
    "st = time.time()\n",
    "filePath = os.path.join(basePath, \"banner_carr.csv\")\n",
    "df_banner=pd.read_csv(filePath)\n",
    "et = time.time()\n",
    "print(\"cost time: \", et -st)\n",
    "#df_banner2.head()"
   ]
  },
  {
   "cell_type": "markdown",
   "metadata": {},
   "source": [
    "#### pandas太强大了，一个mean自动把字符串类型的类（banner_name）直接给干掉了，当然后续如果还是需要banner_name参与进来的话需要先把这一列给给encode了，否则直接就没了"
   ]
  },
  {
   "cell_type": "code",
   "execution_count": 41,
   "metadata": {},
   "outputs": [
    {
     "data": {
      "text/html": [
       "<div>\n",
       "<style scoped>\n",
       "    .dataframe tbody tr th:only-of-type {\n",
       "        vertical-align: middle;\n",
       "    }\n",
       "\n",
       "    .dataframe tbody tr th {\n",
       "        vertical-align: top;\n",
       "    }\n",
       "\n",
       "    .dataframe thead th {\n",
       "        text-align: right;\n",
       "    }\n",
       "</style>\n",
       "<table border=\"1\" class=\"dataframe\">\n",
       "  <thead>\n",
       "    <tr style=\"text-align: right;\">\n",
       "      <th></th>\n",
       "      <th>REPORT_DATE</th>\n",
       "      <th>Unnamed: 0</th>\n",
       "      <th>AMOUNT_PER_KG</th>\n",
       "      <th>PRICE_PER_KG</th>\n",
       "      <th>HAS_GROUND</th>\n",
       "      <th>WEEK_OF_YEAR</th>\n",
       "      <th>MONTH_OF_YEAR</th>\n",
       "      <th>YEAR_OF_WEEK</th>\n",
       "      <th>IS_VALENTINE</th>\n",
       "      <th>IS_TEACHER</th>\n",
       "      <th>...</th>\n",
       "      <th>IS_NEWYEAR</th>\n",
       "      <th>IS_CHRISTMAS</th>\n",
       "      <th>IS_12</th>\n",
       "      <th>IS_11</th>\n",
       "      <th>IS_618</th>\n",
       "      <th>IS_SUMMER</th>\n",
       "      <th>IS_WINTER</th>\n",
       "      <th>STORE_COUNT</th>\n",
       "      <th>CITY_COUNT</th>\n",
       "      <th>RN</th>\n",
       "    </tr>\n",
       "  </thead>\n",
       "  <tbody>\n",
       "    <tr>\n",
       "      <th>0</th>\n",
       "      <td>2016-09-01</td>\n",
       "      <td>257389.5</td>\n",
       "      <td>7.390457</td>\n",
       "      <td>86.396316</td>\n",
       "      <td>0.070796</td>\n",
       "      <td>35.0</td>\n",
       "      <td>9.0</td>\n",
       "      <td>2016.0</td>\n",
       "      <td>0.0</td>\n",
       "      <td>0.0</td>\n",
       "      <td>...</td>\n",
       "      <td>0.0</td>\n",
       "      <td>0.0</td>\n",
       "      <td>0.0</td>\n",
       "      <td>0.0</td>\n",
       "      <td>0.0</td>\n",
       "      <td>0.0</td>\n",
       "      <td>0.0</td>\n",
       "      <td>288.0</td>\n",
       "      <td>67.0</td>\n",
       "      <td>1.0</td>\n",
       "    </tr>\n",
       "  </tbody>\n",
       "</table>\n",
       "<p>1 rows × 22 columns</p>\n",
       "</div>"
      ],
      "text/plain": [
       "  REPORT_DATE  Unnamed: 0  AMOUNT_PER_KG  PRICE_PER_KG  HAS_GROUND  \\\n",
       "0  2016-09-01    257389.5       7.390457     86.396316    0.070796   \n",
       "\n",
       "   WEEK_OF_YEAR  MONTH_OF_YEAR  YEAR_OF_WEEK  IS_VALENTINE  IS_TEACHER  ...  \\\n",
       "0          35.0            9.0        2016.0           0.0         0.0  ...   \n",
       "\n",
       "   IS_NEWYEAR  IS_CHRISTMAS  IS_12  IS_11  IS_618  IS_SUMMER  IS_WINTER  \\\n",
       "0         0.0           0.0    0.0    0.0     0.0        0.0        0.0   \n",
       "\n",
       "   STORE_COUNT  CITY_COUNT   RN  \n",
       "0        288.0        67.0  1.0  \n",
       "\n",
       "[1 rows x 22 columns]"
      ]
     },
     "execution_count": 41,
     "metadata": {},
     "output_type": "execute_result"
    }
   ],
   "source": [
    "df_banner_agg = df_banner.drop(\"id\", axis=1).groupby(\"REPORT_DATE\").mean().reset_index()\n",
    "\n",
    "#df_banner_agg[\"REPORT_DATE\"] = df_banner_agg[\"REPORT_DATE\"].apply(lambda x: x.replace(\"/\", \"-\"))\n",
    "df_banner_agg.head(1)"
   ]
  },
  {
   "cell_type": "code",
   "execution_count": 42,
   "metadata": {},
   "outputs": [],
   "source": [
    "import datetime\n",
    "def getDayNo(arr):\n",
    "    count = len(arr)\n",
    "    for i in range(count):\n",
    "        dd = arr[i]\n",
    "        dd = datetime.datetime.strptime(dd,\"%Y-%m-%d\")\n",
    "\n",
    "        dayNo = dd.timetuple().tm_yday\n",
    "        arr[i] = dayNo\n",
    "        #print(\"date:\", dd, \"; dayNo: \", dayNo)"
   ]
  },
  {
   "cell_type": "code",
   "execution_count": 43,
   "metadata": {},
   "outputs": [],
   "source": [
    "from sklearn.metrics import mean_squared_error\n",
    "from sklearn.model_selection import train_test_split\n",
    "def plot_learning_curves(model, X, y):\n",
    "    X_train, X_val, y_train, y_val = train_test_split(X, y, test_size=0.2)\n",
    "    train_errors, val_errors = [], []\n",
    "    for m in range(1, len(X_train)):\n",
    "        model.fit(X_train[:m], y_train[:m])\n",
    "        y_train_predict = model.predict(X_train[:m])\n",
    "        y_val_predict = model.predict(X_val)\n",
    "        train_errors.append(mean_squared_error(y_train_predict, y_train[:m]))\n",
    "        val_errors.append(mean_squared_error(y_val_predict, y_val))\n",
    "    plt.plot(np.sqrt(train_errors), \"r-+\", linewidth=2, label=\"train\")\n",
    "    plt.plot(np.sqrt(val_errors), \"b-\", linewidth=3, label=\"val\")\n",
    "\n",
    "#plot_learning_curves(rf, X_train, y_train)"
   ]
  },
  {
   "cell_type": "code",
   "execution_count": 44,
   "metadata": {},
   "outputs": [],
   "source": [
    "def model_train(model, X_train, y_train, X_test, y_test):\n",
    "    model.fit(X_train, y_train)\n",
    "    yHat = model.predict(X_test)\n",
    "    #plt.figure(figsize=(15, 12))\n",
    "    plt.plot(range(len(yHat)), yHat, \"r-\")\n",
    "    plt.plot(range(len(y_test)), y_test, \"b--\")\n",
    "    from sklearn.metrics import mean_squared_error\n",
    "    mse = mean_squared_error(y_test, yHat)\n",
    "    print(\"mse: \", mse, \"rmse: \", np.sqrt(mse))\n",
    "    #plot_learning_curves(rf, X_train, y_train)"
   ]
  },
  {
   "cell_type": "code",
   "execution_count": 45,
   "metadata": {},
   "outputs": [
    {
     "data": {
      "text/html": [
       "<div>\n",
       "<style scoped>\n",
       "    .dataframe tbody tr th:only-of-type {\n",
       "        vertical-align: middle;\n",
       "    }\n",
       "\n",
       "    .dataframe tbody tr th {\n",
       "        vertical-align: top;\n",
       "    }\n",
       "\n",
       "    .dataframe thead th {\n",
       "        text-align: right;\n",
       "    }\n",
       "</style>\n",
       "<table border=\"1\" class=\"dataframe\">\n",
       "  <thead>\n",
       "    <tr style=\"text-align: right;\">\n",
       "      <th></th>\n",
       "      <th>REPORT_DATE</th>\n",
       "      <th>QLI</th>\n",
       "      <th>LAST_1_MONTH_AVG</th>\n",
       "      <th>LAST_1_MONTH_MIN</th>\n",
       "      <th>LAST_1_MONTH_MAX</th>\n",
       "      <th>LAST_1_MONTH_SUM</th>\n",
       "      <th>LAST_1_MONTH_MID</th>\n",
       "      <th>LAST_1_MONTH_MID25</th>\n",
       "      <th>LAST_1_MONTH_MID75</th>\n",
       "      <th>LAST_2_MONTH_AVG</th>\n",
       "      <th>...</th>\n",
       "      <th>LAST_6_MONTH_MID</th>\n",
       "      <th>LAST_6_MONTH_MID25</th>\n",
       "      <th>LAST_6_MONTH_MID75</th>\n",
       "      <th>LAST_12_MONTH_AVG</th>\n",
       "      <th>LAST_12_MONTH_MIN</th>\n",
       "      <th>LAST_12_MONTH_MAX</th>\n",
       "      <th>LAST_12_MONTH_SUM</th>\n",
       "      <th>LAST_12_MONTH_MID</th>\n",
       "      <th>LAST_12_MONTH_MID25</th>\n",
       "      <th>LAST_12_MONTH_MID75</th>\n",
       "    </tr>\n",
       "  </thead>\n",
       "  <tbody>\n",
       "    <tr>\n",
       "      <th>0</th>\n",
       "      <td>2016-09-01</td>\n",
       "      <td>0.632679</td>\n",
       "      <td>0.632679</td>\n",
       "      <td>0.632679</td>\n",
       "      <td>0.632679</td>\n",
       "      <td>0.632679</td>\n",
       "      <td>0.632679</td>\n",
       "      <td>0.632679</td>\n",
       "      <td>0.632679</td>\n",
       "      <td>0.632679</td>\n",
       "      <td>...</td>\n",
       "      <td>0.632679</td>\n",
       "      <td>0.632679</td>\n",
       "      <td>0.632679</td>\n",
       "      <td>0.632679</td>\n",
       "      <td>0.632679</td>\n",
       "      <td>0.632679</td>\n",
       "      <td>0.632679</td>\n",
       "      <td>0.632679</td>\n",
       "      <td>0.632679</td>\n",
       "      <td>0.632679</td>\n",
       "    </tr>\n",
       "    <tr>\n",
       "      <th>1</th>\n",
       "      <td>2016-09-02</td>\n",
       "      <td>0.419916</td>\n",
       "      <td>0.541714</td>\n",
       "      <td>0.331946</td>\n",
       "      <td>0.751482</td>\n",
       "      <td>1.090651</td>\n",
       "      <td>0.541714</td>\n",
       "      <td>0.541714</td>\n",
       "      <td>0.541714</td>\n",
       "      <td>0.541714</td>\n",
       "      <td>...</td>\n",
       "      <td>0.541714</td>\n",
       "      <td>0.541714</td>\n",
       "      <td>0.541714</td>\n",
       "      <td>0.541714</td>\n",
       "      <td>0.331946</td>\n",
       "      <td>0.751482</td>\n",
       "      <td>1.090651</td>\n",
       "      <td>0.541714</td>\n",
       "      <td>0.541714</td>\n",
       "      <td>0.541714</td>\n",
       "    </tr>\n",
       "    <tr>\n",
       "      <th>2</th>\n",
       "      <td>2016-09-03</td>\n",
       "      <td>0.142710</td>\n",
       "      <td>0.597410</td>\n",
       "      <td>0.099664</td>\n",
       "      <td>1.098178</td>\n",
       "      <td>1.792231</td>\n",
       "      <td>0.594389</td>\n",
       "      <td>0.347027</td>\n",
       "      <td>0.846284</td>\n",
       "      <td>0.597410</td>\n",
       "      <td>...</td>\n",
       "      <td>0.594389</td>\n",
       "      <td>0.347027</td>\n",
       "      <td>0.846284</td>\n",
       "      <td>0.597410</td>\n",
       "      <td>0.099664</td>\n",
       "      <td>1.098178</td>\n",
       "      <td>1.792231</td>\n",
       "      <td>0.594389</td>\n",
       "      <td>0.347027</td>\n",
       "      <td>0.846284</td>\n",
       "    </tr>\n",
       "  </tbody>\n",
       "</table>\n",
       "<p>3 rows × 51 columns</p>\n",
       "</div>"
      ],
      "text/plain": [
       "  REPORT_DATE       QLI  LAST_1_MONTH_AVG  LAST_1_MONTH_MIN  LAST_1_MONTH_MAX  \\\n",
       "0  2016-09-01  0.632679          0.632679          0.632679          0.632679   \n",
       "1  2016-09-02  0.419916          0.541714          0.331946          0.751482   \n",
       "2  2016-09-03  0.142710          0.597410          0.099664          1.098178   \n",
       "\n",
       "   LAST_1_MONTH_SUM  LAST_1_MONTH_MID  LAST_1_MONTH_MID25  LAST_1_MONTH_MID75  \\\n",
       "0          0.632679          0.632679            0.632679            0.632679   \n",
       "1          1.090651          0.541714            0.541714            0.541714   \n",
       "2          1.792231          0.594389            0.347027            0.846284   \n",
       "\n",
       "   LAST_2_MONTH_AVG  ...  LAST_6_MONTH_MID  LAST_6_MONTH_MID25  \\\n",
       "0          0.632679  ...          0.632679            0.632679   \n",
       "1          0.541714  ...          0.541714            0.541714   \n",
       "2          0.597410  ...          0.594389            0.347027   \n",
       "\n",
       "   LAST_6_MONTH_MID75  LAST_12_MONTH_AVG  LAST_12_MONTH_MIN  \\\n",
       "0            0.632679           0.632679           0.632679   \n",
       "1            0.541714           0.541714           0.331946   \n",
       "2            0.846284           0.597410           0.099664   \n",
       "\n",
       "   LAST_12_MONTH_MAX  LAST_12_MONTH_SUM  LAST_12_MONTH_MID  \\\n",
       "0           0.632679           0.632679           0.632679   \n",
       "1           0.751482           1.090651           0.541714   \n",
       "2           1.098178           1.792231           0.594389   \n",
       "\n",
       "   LAST_12_MONTH_MID25  LAST_12_MONTH_MID75  \n",
       "0             0.632679             0.632679  \n",
       "1             0.541714             0.541714  \n",
       "2             0.347027             0.846284  \n",
       "\n",
       "[3 rows x 51 columns]"
      ]
     },
     "execution_count": 45,
     "metadata": {},
     "output_type": "execute_result"
    }
   ],
   "source": [
    "# 获取趋势聚合信息\n",
    "filePath = os.path.join(basePath, \"SalesTrend.csv\")\n",
    "df_trend = pd.read_csv(filePath)\n",
    "df_trend_carre = df_trend[df_trend.BANNER_NAME == 'Carrefour']\n",
    "df_trend_carre_agg = df_trend_carre.groupby('REPORT_DATE').mean().reset_index()\n",
    "df_trend_carre_agg.head(3)"
   ]
  },
  {
   "cell_type": "code",
   "execution_count": 46,
   "metadata": {},
   "outputs": [
    {
     "data": {
      "text/plain": [
       "654"
      ]
     },
     "execution_count": 46,
     "metadata": {},
     "output_type": "execute_result"
    }
   ],
   "source": [
    "df_merge = df_banner_agg.merge(df_trend_carre_agg, on=[\"REPORT_DATE\"], how=\"inner\")\n",
    "len(df_merge)\n",
    "#df_merge.columns"
   ]
  },
  {
   "cell_type": "code",
   "execution_count": 54,
   "metadata": {},
   "outputs": [
    {
     "data": {
      "text/html": [
       "<div>\n",
       "<style scoped>\n",
       "    .dataframe tbody tr th:only-of-type {\n",
       "        vertical-align: middle;\n",
       "    }\n",
       "\n",
       "    .dataframe tbody tr th {\n",
       "        vertical-align: top;\n",
       "    }\n",
       "\n",
       "    .dataframe thead th {\n",
       "        text-align: right;\n",
       "    }\n",
       "</style>\n",
       "<table border=\"1\" class=\"dataframe\">\n",
       "  <thead>\n",
       "    <tr style=\"text-align: right;\">\n",
       "      <th></th>\n",
       "      <th>REPORT_DATE</th>\n",
       "      <th>Unnamed: 0</th>\n",
       "      <th>AMOUNT_PER_KG</th>\n",
       "      <th>PRICE_PER_KG</th>\n",
       "      <th>HAS_GROUND</th>\n",
       "      <th>WEEK_OF_YEAR</th>\n",
       "      <th>MONTH_OF_YEAR</th>\n",
       "      <th>YEAR_OF_WEEK</th>\n",
       "      <th>IS_VALENTINE</th>\n",
       "      <th>IS_TEACHER</th>\n",
       "      <th>...</th>\n",
       "      <th>LAST_6_MONTH_MID</th>\n",
       "      <th>LAST_6_MONTH_MID25</th>\n",
       "      <th>LAST_6_MONTH_MID75</th>\n",
       "      <th>LAST_12_MONTH_AVG</th>\n",
       "      <th>LAST_12_MONTH_MIN</th>\n",
       "      <th>LAST_12_MONTH_MAX</th>\n",
       "      <th>LAST_12_MONTH_SUM</th>\n",
       "      <th>LAST_12_MONTH_MID</th>\n",
       "      <th>LAST_12_MONTH_MID25</th>\n",
       "      <th>LAST_12_MONTH_MID75</th>\n",
       "    </tr>\n",
       "  </thead>\n",
       "  <tbody>\n",
       "    <tr>\n",
       "      <th>0</th>\n",
       "      <td>245</td>\n",
       "      <td>257389.5</td>\n",
       "      <td>7.390457</td>\n",
       "      <td>86.396316</td>\n",
       "      <td>0.070796</td>\n",
       "      <td>35.0</td>\n",
       "      <td>9.0</td>\n",
       "      <td>2016.0</td>\n",
       "      <td>0.0</td>\n",
       "      <td>0.0</td>\n",
       "      <td>...</td>\n",
       "      <td>0.632679</td>\n",
       "      <td>0.632679</td>\n",
       "      <td>0.632679</td>\n",
       "      <td>0.632679</td>\n",
       "      <td>0.632679</td>\n",
       "      <td>0.632679</td>\n",
       "      <td>0.632679</td>\n",
       "      <td>0.632679</td>\n",
       "      <td>0.632679</td>\n",
       "      <td>0.632679</td>\n",
       "    </tr>\n",
       "  </tbody>\n",
       "</table>\n",
       "<p>1 rows × 71 columns</p>\n",
       "</div>"
      ],
      "text/plain": [
       "  REPORT_DATE  Unnamed: 0  AMOUNT_PER_KG  PRICE_PER_KG  HAS_GROUND  \\\n",
       "0         245    257389.5       7.390457     86.396316    0.070796   \n",
       "\n",
       "   WEEK_OF_YEAR  MONTH_OF_YEAR  YEAR_OF_WEEK  IS_VALENTINE  IS_TEACHER  ...  \\\n",
       "0          35.0            9.0        2016.0           0.0         0.0  ...   \n",
       "\n",
       "   LAST_6_MONTH_MID  LAST_6_MONTH_MID25  LAST_6_MONTH_MID75  \\\n",
       "0          0.632679            0.632679            0.632679   \n",
       "\n",
       "   LAST_12_MONTH_AVG  LAST_12_MONTH_MIN  LAST_12_MONTH_MAX  LAST_12_MONTH_SUM  \\\n",
       "0           0.632679           0.632679           0.632679           0.632679   \n",
       "\n",
       "   LAST_12_MONTH_MID  LAST_12_MONTH_MID25  LAST_12_MONTH_MID75  \n",
       "0           0.632679             0.632679             0.632679  \n",
       "\n",
       "[1 rows x 71 columns]"
      ]
     },
     "execution_count": 54,
     "metadata": {},
     "output_type": "execute_result"
    }
   ],
   "source": [
    "labels = df_merge[\"QLI\"].values\n",
    "df_merge_clean = df_merge.copy()\n",
    "getDayNo(df_merge_clean[\"REPORT_DATE\"].values)\n",
    "df_merge_clean = df_merge_clean.drop(\"QLI\", 1)\n",
    "df_merge_clean.head(1)"
   ]
  },
  {
   "cell_type": "code",
   "execution_count": 55,
   "metadata": {},
   "outputs": [
    {
     "data": {
      "text/plain": [
       "654"
      ]
     },
     "execution_count": 55,
     "metadata": {},
     "output_type": "execute_result"
    }
   ],
   "source": [
    "len(df_merge_clean)"
   ]
  },
  {
   "cell_type": "code",
   "execution_count": 56,
   "metadata": {},
   "outputs": [],
   "source": [
    "X_train, X_test, y_train, y_test = train_test_split(df_merge_clean.values, labels, test_size=0.2, random_state=42)"
   ]
  },
  {
   "cell_type": "code",
   "execution_count": 57,
   "metadata": {},
   "outputs": [
    {
     "name": "stdout",
     "output_type": "stream",
     "text": [
      "mse:  2.0381387694049318 rmse:  1.4276339759913714\n"
     ]
    },
    {
     "data": {
      "image/png": "[encoded data removed]",
      "text/plain": [
       "<Figure size 432x288 with 1 Axes>"
      ]
     },
     "metadata": {
      "needs_background": "light"
     },
     "output_type": "display_data"
    }
   ],
   "source": [
    "from sklearn.linear_model import LinearRegression\n",
    "lr = LinearRegression()\n",
    "model_train(lr, X_train, y_train, X_test, y_test)"
   ]
  },
  {
   "cell_type": "code",
   "execution_count": 58,
   "metadata": {},
   "outputs": [
    {
     "name": "stderr",
     "output_type": "stream",
     "text": [
      "c:\\users\\wenyang.zhang\\documents\\myspace\\python37\\lib\\site-packages\\sklearn\\ensemble\\forest.py:245: FutureWarning: The default value of n_estimators will change from 10 in version 0.20 to 100 in 0.22.\n",
      "  \"10 in version 0.20 to 100 in 0.22.\", FutureWarning)\n"
     ]
    },
    {
     "name": "stdout",
     "output_type": "stream",
     "text": [
      "mse:  1.4474719092476627 rmse:  1.2031092673766846\n"
     ]
    },
    {
     "data": {
      "image/png": "[encoded data removed]",
      "text/plain": [
       "<Figure size 432x288 with 1 Axes>"
      ]
     },
     "metadata": {
      "needs_background": "light"
     },
     "output_type": "display_data"
    }
   ],
   "source": [
    "rf = RandomForestRegressor(random_state=42,min_samples_leaf=150)\n",
    "model_train(rf, X_train, y_train, X_test, y_test)"
   ]
  },
  {
   "cell_type": "code",
   "execution_count": 59,
   "metadata": {},
   "outputs": [
    {
     "name": "stderr",
     "output_type": "stream",
     "text": [
      "c:\\users\\wenyang.zhang\\documents\\myspace\\python37\\lib\\site-packages\\sklearn\\svm\\base.py:193: FutureWarning: The default value of gamma will change from 'auto' to 'scale' in version 0.22 to account better for unscaled features. Set gamma explicitly to 'auto' or 'scale' to avoid this warning.\n",
      "  \"avoid this warning.\", FutureWarning)\n"
     ]
    },
    {
     "name": "stdout",
     "output_type": "stream",
     "text": [
      "mse:  1.5222216724587816 rmse:  1.2337834787590494\n"
     ]
    },
    {
     "data": {
      "image/png": "[encoded data removed]",
      "text/plain": [
       "<Figure size 432x288 with 1 Axes>"
      ]
     },
     "metadata": {
      "needs_background": "light"
     },
     "output_type": "display_data"
    }
   ],
   "source": [
    "from sklearn.svm import SVR\n",
    "svr =SVR()\n",
    "model_train(svr, X_train, y_train, X_test, y_test)"
   ]
  },
  {
   "cell_type": "code",
   "execution_count": 60,
   "metadata": {},
   "outputs": [
    {
     "name": "stdout",
     "output_type": "stream",
     "text": [
      "mse:  1.705754181067811 rmse:  1.30604524464806\n"
     ]
    },
    {
     "data": {
      "image/png": "[encoded data removed]",
      "text/plain": [
       "<Figure size 432x288 with 1 Axes>"
      ]
     },
     "metadata": {
      "needs_background": "light"
     },
     "output_type": "display_data"
    }
   ],
   "source": [
    "gbr = GradientBoostingRegressor()\n",
    "model_train(gbr, X_train, y_train, X_test, y_test)"
   ]
  },
  {
   "cell_type": "code",
   "execution_count": null,
   "metadata": {},
   "outputs": [],
   "source": []
  }
 ],
 "metadata": {
  "kernelspec": {
   "display_name": "Python 3",
   "language": "python",
   "name": "python3"
  },
  "language_info": {
   "codemirror_mode": {
    "name": "ipython",
    "version": 3
   },
   "file_extension": ".py",
   "mimetype": "text/x-python",
   "name": "python",
   "nbconvert_exporter": "python",
   "pygments_lexer": "ipython3",
   "version": "3.7.3"
  }
 },
 "nbformat": 4,
 "nbformat_minor": 2
}
